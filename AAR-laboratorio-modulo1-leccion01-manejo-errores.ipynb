{
 "cells": [
  {
   "cell_type": "markdown",
   "metadata": {},
   "source": [
    "\n",
    "<div style=\"text-align: center;\">\n",
    "  <img src=\"https://github.com/Hack-io-Data/Imagenes/blob/main/01-LogosHackio/logo_celeste@4x.png?raw=true\" alt=\"esquema\" />\n",
    "</div>\n"
   ]
  },
  {
   "cell_type": "markdown",
   "metadata": {},
   "source": [
    "# Laboratorio de Python: manejo de errores."
   ]
  },
  {
   "cell_type": "markdown",
   "metadata": {},
   "source": [
    "## Ejercicio 1: División con manejo de excepciones\n",
    "\n",
    "Escribe un programa que pida al usuario dos números e intente dividirlos. Si el usuario ingresa un valor no numérico o intenta dividir por cero, maneja esas excepciones de manera adecuada. Asegúrate de mostrar un mensaje indicando si la división fue exitosa o no.\n"
   ]
  },
  {
   "cell_type": "code",
   "execution_count": 7,
   "metadata": {},
   "outputs": [
    {
     "name": "stdout",
     "output_type": "stream",
     "text": [
      "los números elegidos han sido 5 y 0\n",
      "no se puede dividir entre 0, error en la división\n"
     ]
    }
   ],
   "source": [
    "num1= input(\"dame un número\")\n",
    "num2= input(\"dame otro número\")\n",
    "print(f\"los números elegidos han sido {num1} y {num2}\")\n",
    "try:\n",
    "    num1=int(num1)\n",
    "    num2=int(num2)\n",
    "    resultado_1 = round(num1 / num2, 2)\n",
    "    print(f\"el resultado de la división es: {resultado_1}\")\n",
    "except ZeroDivisionError:\n",
    "    print(\"no se puede dividir entre 0, error en la división\")\n",
    "except ValueError:\n",
    "    print(\"inserta solo números, error en la división\")\n",
    "\n",
    "else:\n",
    "    print(\"división exitosa\")\n"
   ]
  },
  {
   "cell_type": "markdown",
   "metadata": {},
   "source": [
    "## Ejercicio 2: Acceso a archivos\n",
    "\n",
    "Escribe un programa que intente abrir un archivo llamado \"datos.txt\". Si el archivo no existe, captura la excepción y muestra un mensaje de error. Asegúrate de cerrar el archivo correctamente en la sección `finally`.\n"
   ]
  },
  {
   "cell_type": "code",
   "execution_count": 12,
   "metadata": {},
   "outputs": [
    {
     "name": "stdout",
     "output_type": "stream",
     "text": [
      "el archivo no existe\n",
      "no hay archivo que cerrar\n"
     ]
    }
   ],
   "source": [
    "try:\n",
    "    with open('archivo.txt', 'r') as archivo:\n",
    "        contenido = archivo.read()\n",
    "        print(contenido)\n",
    "except FileNotFoundError:\n",
    "    print(\"el archivo no existe\")\n",
    "finally:\n",
    "    #busco en internet como cerrar el archivo\n",
    "    try:\n",
    "        archivo.close()\n",
    "    except NameError:\n",
    "        print(\"no hay archivo que cerrar\")"
   ]
  },
  {
   "cell_type": "markdown",
   "metadata": {},
   "source": [
    "## Ejercicio 3: Conversión de cadenas a enteros\n",
    "\n",
    "Escribe un programa que pida una lista de números separados por comas y convierta cada valor a un número entero. Maneja las excepciones para valores que no sean convertibles y asegúrate de informar si la conversión fue exitosa o no.\n"
   ]
  },
  {
   "cell_type": "code",
   "execution_count": 51,
   "metadata": {},
   "outputs": [
    {
     "name": "stdout",
     "output_type": "stream",
     "text": [
      "la lista introcida es ['ho']\n",
      "solo incluye números separados por comas\n",
      "no se pudo realizar la conversión\n"
     ]
    }
   ],
   "source": [
    "lista_3 = input(\"dame una lista de números separados por comas para convertirlos en números enteros\")\n",
    "try:\n",
    "    lista_3 = list(lista_3.split(sep=\",\"))\n",
    "    print(f\"la lista introcida es {lista_3}\")\n",
    "    vacioooo = []\n",
    "    for n in lista_3:\n",
    "    #convierto primero los numeros de la lista en números decimales para después pasarlos a enteros\n",
    "        n= float(n)\n",
    "        n=int(n)\n",
    "        vacioooo.append(n)\n",
    "    print(f\"la lista de números enteros es {vacioooo}\")\n",
    "except ValueError:\n",
    "    print(\"solo incluye números separados por comas\")\n",
    "    print(\"no se pudo realizar la conversión\")\n",
    "else:\n",
    "    print(\"la conversión fue exitosa\")"
   ]
  },
  {
   "cell_type": "markdown",
   "metadata": {},
   "source": [
    "#### Ejercicio 4: Cálculo del promedio con manejo de excepciones\n",
    "\n",
    "Escribe una función que reciba una lista de números y calcule su promedio. Si la lista está vacía, lanza una excepción personalizada y maneja el error adecuadamente.\n"
   ]
  },
  {
   "cell_type": "code",
   "execution_count": null,
   "metadata": {},
   "outputs": [
    {
     "name": "stdout",
     "output_type": "stream",
     "text": [
      "la lista no puede estar vacía\n"
     ]
    }
   ],
   "source": [
    "lista_4 = [3,3.1,3]\n",
    "suma_total = 0\n",
    "conteo_total = 0\n",
    "try:\n",
    "    for n in lista_4:\n",
    "        n = float(n)\n",
    "        suma_total = suma_total + n\n",
    "        conteo_total += 1\n",
    "\n",
    "    promedio = round(suma_total/conteo_total,2)\n",
    "    print(f\"la media de los valores es {promedio}\")\n",
    "except ZeroDivisionError:\n",
    "    print(\"la lista no puede estar vacía\")\n",
    "except ValueError:\n",
    "    print(\"la lista solo puede contener números\")\n",
    "else: \n",
    "    print(\"el código se ha ejecutado bien\")\n",
    "    \n"
   ]
  },
  {
   "cell_type": "markdown",
   "metadata": {},
   "source": [
    "#### Ejercicio 5: Conversión segura de números\n",
    "\n",
    "Escribe un programa que convierta una cadena a número flotante e intente realizar una operación aritmética. Si la conversión falla, maneja la excepción y continúa con el flujo normal."
   ]
  },
  {
   "cell_type": "code",
   "execution_count": null,
   "metadata": {},
   "outputs": [
    {
     "name": "stdout",
     "output_type": "stream",
     "text": [
      "solo puedes introducir números\n"
     ]
    }
   ],
   "source": [
    "cadena_5 = \"5.65\"\n",
    "try:\n",
    "    num5 = float(cadena_5)\n",
    "except ValueError:\n",
    "    print(\"solo puedes introducir números\")\n",
    "except TypeError:\n",
    "    print(\"solo puedes introducir números\")\n",
    "else:\n",
    "    division_entre_2 = num5 / 2\n",
    "    print(f\"el número dividido entre dos es: {division_entre_2}\")\n",
    "    "
   ]
  },
  {
   "cell_type": "markdown",
   "metadata": {},
   "source": [
    "#### Ejercicio 6: Acceso a claves en diccionarios\n",
    "\n",
    "Escribe un programa que intente acceder a una clave específica en un diccionario. Si la clave no existe, maneja la excepción `KeyError` y muestra un mensaje indicando el problema."
   ]
  },
  {
   "cell_type": "code",
   "execution_count": 68,
   "metadata": {},
   "outputs": [
    {
     "name": "stdout",
     "output_type": "stream",
     "text": [
      "no disponemos de ese dato sobre el jugador\n",
      "los datos disponibles son ['nombre', 'edad', 'posición', 'goles', 'altura']\n"
     ]
    }
   ],
   "source": [
    "jugador_6 = {\"nombre\": \"Vinicius\", \"edad\": 24, \"posición\": \"delantero\", \"goles\": 40, \"altura\":1.75}\n",
    "clave_buscada = input(\"¿que quieres saber sobre el jugador?\")\n",
    "try:\n",
    "    dato_buscado = jugador_6[clave_buscada]\n",
    "    print(f\"el dato {clave_buscada} del jugador es {dato_buscado}\")\n",
    "except KeyError:\n",
    "    print(\"no disponemos de ese dato sobre el jugador\")\n",
    "    datos_dispo = list(jugador_6.keys())\n",
    "    print(f\"los datos disponibles son {datos_dispo}\")\n",
    "else:\n",
    "    print(\"el programa se ha desarrollado sin errores\")\n",
    "\n"
   ]
  },
  {
   "cell_type": "markdown",
   "metadata": {},
   "source": [
    "\n",
    "#### Ejercicio 7: Verificación de entradas de usuario\n",
    "\n",
    "Escribe un programa que pida al usuario que introduzca su edad. Si el usuario ingresa un valor no numérico o un valor fuera del rango esperado (por ejemplo, menor que 0 o mayor que 120), maneja las excepciones adecuadamente."
   ]
  },
  {
   "cell_type": "code",
   "execution_count": 89,
   "metadata": {},
   "outputs": [
    {
     "name": "stdout",
     "output_type": "stream",
     "text": [
      "tienes que insertar un número\n"
     ]
    }
   ],
   "source": [
    "edad_7 = input(\"introduce tu edad\")\n",
    "try:\n",
    "    edad_7 = float(edad_7)\n",
    "    edad_7 = int(edad_7)\n",
    "    control_7 = edad_7 in range(0, 120)\n",
    "    control_7\n",
    "    if control_7 == False:\n",
    "        print(\"Inserta una edad real\")\n",
    "    else:\n",
    "        print(\"edad correcta\")\n",
    "except ValueError or TypeError:\n",
    "    print(\"tienes que insertar un número\")\n",
    "\n",
    "\n",
    "\n"
   ]
  },
  {
   "cell_type": "markdown",
   "metadata": {},
   "source": [
    "#### Ejercicio 8: Extracción de valores de una lista\n",
    "\n",
    "Escribe una función que intente acceder a un índice específico en una lista. Si el índice está fuera del rango, maneja la excepción `IndexError` y muestra un mensaje adecuado.\n"
   ]
  },
  {
   "cell_type": "code",
   "execution_count": 93,
   "metadata": {},
   "outputs": [
    {
     "name": "stdout",
     "output_type": "stream",
     "text": [
      "el jugador elegido es: Pedro\n"
     ]
    }
   ],
   "source": [
    "alineación = [\"Pedro\",\"Juan\",\"Ana\",\"Marta\",\"Edu\"]\n",
    "posición = input(\"¿A qué psoción quieres acceder?\")\n",
    "try:\n",
    "    posición= float(posición)\n",
    "    posición= int(posición)\n",
    "    print(f\"el jugador elegido es: {alineación[posición]}\")\n",
    "except ValueError or TypeError:\n",
    "    print(\"inserta un número\")\n",
    "except IndexError:\n",
    "    print(\"el número elegido sobrepasa el número de valores de la lista\")\n",
    "    maximo = len(alineación)-1\n",
    "    print(f\"elige un número entre 0 y {maximo}\")\n",
    "    "
   ]
  }
 ],
 "metadata": {
  "kernelspec": {
   "display_name": "Python 3",
   "language": "python",
   "name": "python3"
  },
  "language_info": {
   "codemirror_mode": {
    "name": "ipython",
    "version": 3
   },
   "file_extension": ".py",
   "mimetype": "text/x-python",
   "name": "python",
   "nbconvert_exporter": "python",
   "pygments_lexer": "ipython3",
   "version": "3.12.5"
  }
 },
 "nbformat": 4,
 "nbformat_minor": 2
}
